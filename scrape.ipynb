{
 "cells": [
  {
   "cell_type": "code",
   "execution_count": 12,
   "id": "188577fb",
   "metadata": {},
   "outputs": [
    {
     "ename": "TypeError",
     "evalue": "'NoneType' object is not subscriptable",
     "output_type": "error",
     "traceback": [
      "\u001b[1;31m---------------------------------------------------------------------------\u001b[0m",
      "\u001b[1;31mTypeError\u001b[0m                                 Traceback (most recent call last)",
      "Input \u001b[1;32mIn [12]\u001b[0m, in \u001b[0;36m<cell line: 15>\u001b[1;34m()\u001b[0m\n\u001b[0;32m     30\u001b[0m     url\u001b[38;5;241m=\u001b[39m\u001b[38;5;124mf\u001b[39m\u001b[38;5;124m\"\u001b[39m\u001b[38;5;124mhttps://spa2.scrape.center/api/movie/\u001b[39m\u001b[38;5;132;01m{\u001b[39;00murl_id\u001b[38;5;132;01m}\u001b[39;00m\u001b[38;5;124m/?token=\u001b[39m\u001b[38;5;132;01m{\u001b[39;00mtoken\u001b[38;5;132;01m}\u001b[39;00m\u001b[38;5;124m\"\u001b[39m\n\u001b[0;32m     31\u001b[0m     html\u001b[38;5;241m=\u001b[39mgetHTMLText(url)\n\u001b[1;32m---> 32\u001b[0m     \u001b[38;5;28mprint\u001b[39m(\u001b[43mhtml\u001b[49m\u001b[43m[\u001b[49m\u001b[38;5;124;43m'\u001b[39;49m\u001b[38;5;124;43mid\u001b[39;49m\u001b[38;5;124;43m'\u001b[39;49m\u001b[43m]\u001b[49m,html[\u001b[38;5;124m'\u001b[39m\u001b[38;5;124mdrama\u001b[39m\u001b[38;5;124m'\u001b[39m])\n\u001b[0;32m     33\u001b[0m \u001b[38;5;28mprint\u001b[39m(time\u001b[38;5;241m.\u001b[39mtime()\u001b[38;5;241m-\u001b[39mt1)\n",
      "\u001b[1;31mTypeError\u001b[0m: 'NoneType' object is not subscriptable"
     ]
    }
   ],
   "source": [
    "import requests\n",
    "import time\n",
    "t1=time.time()\n",
    "import hashlib\n",
    "import base64\n",
    "def getHTMLText(url):\n",
    "    try:\n",
    "        r=requests.get(url,timeout=60)\n",
    "        r.raise_for_status()\n",
    "        r.encoding='utf-8'\n",
    "        return r.json()\n",
    "    except:\n",
    "        pass\n",
    "a=\"ef34#teuq0btua#(-57w1q5o5--j@98xygimlyfxs*-!i-0-mb\"\n",
    "for b in range(1,101):\n",
    "    c=f\"{a}{b}\" #解码后的base64编码和后者1-100的拼接\n",
    "    url_id=base64.b64encode(c.encode('utf-8'))#base64转utf-8\n",
    "    url_id=url_id.decode()\n",
    "    #1：时间戳取整    \n",
    "    t=int(time.time())#获取时间戳数据\n",
    "    #2：SHA1加密 \n",
    "    s1 = f\"/api/movie/{url_id},0,{t}\"\n",
    "    o = hashlib.sha1(s1.encode(\"utf-8\")).hexdigest()    \n",
    "    s2=f'{o},{t}'\n",
    "    s3=s2.encode('utf-8')\n",
    "    #3：Base64加密\n",
    "    token=base64.b64encode(s3)\n",
    "    #4:bytes转str\n",
    "    token=token.decode()\n",
    "    url=f\"https://spa2.scrape.center/api/movie/{url_id}/?token={token}\"\n",
    "    html=getHTMLText(url)\n",
    "    print(html['id'],html['drama'])\n",
    "print(time.time()-t1)#约一分钟\n"
   ]
  },
  {
   "cell_type": "code",
   "execution_count": null,
   "id": "e32747ee",
   "metadata": {},
   "outputs": [],
   "source": []
  },
  {
   "cell_type": "code",
   "execution_count": null,
   "id": "f2698149",
   "metadata": {},
   "outputs": [],
   "source": []
  },
  {
   "cell_type": "code",
   "execution_count": null,
   "id": "28a8041b",
   "metadata": {},
   "outputs": [],
   "source": []
  }
 ],
 "metadata": {
  "kernelspec": {
   "display_name": "Python 3 (ipykernel)",
   "language": "python",
   "name": "python3"
  },
  "language_info": {
   "codemirror_mode": {
    "name": "ipython",
    "version": 3
   },
   "file_extension": ".py",
   "mimetype": "text/x-python",
   "name": "python",
   "nbconvert_exporter": "python",
   "pygments_lexer": "ipython3",
   "version": "3.9.6"
  }
 },
 "nbformat": 4,
 "nbformat_minor": 5
}
